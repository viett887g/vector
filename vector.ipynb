{
  "cells": [
    {
      "cell_type": "markdown",
      "metadata": {
        "id": "view-in-github",
        "colab_type": "text"
      },
      "source": [
        "<a href=\"https://colab.research.google.com/github/viett887g/vector/blob/main/vector.ipynb\" target=\"_parent\"><img src=\"https://colab.research.google.com/assets/colab-badge.svg\" alt=\"Open In Colab\"/></a>"
      ]
    },
    {
      "cell_type": "code",
      "execution_count": null,
      "metadata": {
        "id": "QPeGYotqqvLk"
      },
      "outputs": [],
      "source": [
        "from collections import Counter\n",
        "import numpy as np"
      ]
    },
    {
      "cell_type": "code",
      "source": [
        "from google.colab import drive\n",
        "drive.mount('/content/drive')"
      ],
      "metadata": {
        "colab": {
          "base_uri": "https://localhost:8080/"
        },
        "id": "VMUilrgn_wgy",
        "outputId": "118a8cfb-7307-43e4-dc2c-7ef02402e070"
      },
      "execution_count": null,
      "outputs": [
        {
          "output_type": "stream",
          "name": "stdout",
          "text": [
            "Mounted at /content/drive\n"
          ]
        }
      ]
    },
    {
      "cell_type": "code",
      "execution_count": null,
      "metadata": {
        "id": "-3WU_bv0qvLm"
      },
      "outputs": [],
      "source": [
        "def cleantext_returnlist(file):\n",
        "    list1 = []\n",
        "    temp = []\n",
        "    for words in file:\n",
        "        words = words.replace(',','')\n",
        "        words = words.replace('.','')\n",
        "        #chia các từ trong list thành từng phần tử dc cách nhau bởi khoảng trắng\n",
        "        temp_list = words.split()\n",
        "        temp.append(temp_list)\n",
        "    #gộp tất cả các dic lại với nhau\n",
        "    for i in range(len(temp)-1):\n",
        "        temp[i+1] = temp[i]+temp[i+1]\n",
        "    return temp[len(temp)-1]\n",
        "\n",
        "def unique_words(list1):\n",
        "\n",
        "    # khởi tạo một danh sách rỗng\n",
        "    unique_list = []\n",
        "  \n",
        "    # lượt qua tất cả các phần tử có trong list\n",
        "    for x in list1:\n",
        "        # check xem trong list vừa khởi tạo trên có phần tử đấy hay không, nếu không thì thêm vào\n",
        "        if x not in unique_list:\n",
        "            unique_list.append(x)\n",
        "    return unique_list\n",
        "\n",
        "def initialize_dictionary(file):\n",
        "    dic = cleantext_returnlist(file)\n",
        "    dic = unique_words(dic)\n",
        "    return dic\n",
        "\n",
        "def count_t_in_d(d):\n",
        "    #tạo ma trận rỗng để thêm tất cả các từ có trong d \n",
        "    array_split = []\n",
        "    for line in d:\n",
        "        #lấy từng dòng ở d để thu về một list gồm các từ\n",
        "        list_words = line.split()\n",
        "\n",
        "        for m in list_words:\n",
        "            #bỏ đi các dấu ',','.'\n",
        "            m = m.strip(',') \n",
        "            m = m.strip('.')\n",
        "            #thêm tất cả các từ vào trong list\n",
        "            array_split.append(m)\n",
        "\n",
        "    #dùng hàm Counter để đếm số lần xuất hiện các từ trong văn bản\n",
        "    counts = dict(Counter(array_split))\n",
        "    \n",
        "    return counts\n",
        "\n",
        "def from_text_return_a_array(file_text,dic):\n",
        "    #tạo từ điển\n",
        "    dictionary = initialize_dictionary(dic)\n",
        "    #khởi tạo danh sách rỗng bằng số chiều với dictionary\n",
        "    array_null = [0 for x in range(len(dictionary))]\n",
        "    #tính tần xuất suất hiện của 'từ' trong file\n",
        "    counts = count_t_in_d(file_text)\n",
        "    #Gán từng giá trị của biến counts vào danh sách rỗng hồi nãy\n",
        "    for i in range(len(dictionary)):\n",
        "        try:\n",
        "            array_null[i] = counts[dictionary[i]]\n",
        "        except:\n",
        "            pass\n",
        "    return array_null"
      ]
    },
    {
      "cell_type": "code",
      "execution_count": null,
      "metadata": {
        "id": "cOFSuLaRqvLn"
      },
      "outputs": [],
      "source": [
        "def read_file(name_file):\n",
        "    folder_d = [] #list dùng để lưu các text\n",
        "    dic_d = [] #list dùng để tạo dictionary\n",
        "    for i in name_file:\n",
        "        with open(f'C:/Users/ADMIN/Downloads/corpus-tf-idf/{i}','r',encoding='ISO-8859-1') as f:\n",
        "            dic = f.read() \n",
        "            dic = dic.strip(\"\\n\")\n",
        "        dic_d.append(dic)\n",
        "        \n",
        "        with open(f'C:/Users/ADMIN/Downloads/corpus-tf-idf/{i}','r',encoding='ISO-8859-1') as f:\n",
        "            count = 0\n",
        "            d = []\n",
        "            while True:\n",
        "                count += 1\n",
        "                line = f.readline()\n",
        "                if not line:\n",
        "                    break\n",
        "                if line == '\\n':\n",
        "                    continue\n",
        "                d.append(line.strip(\"\\n\"))\n",
        "        folder_d.append(d)\n",
        "        \n",
        "    return dic_d, folder_d"
      ]
    },
    {
      "cell_type": "code",
      "execution_count": null,
      "metadata": {
        "id": "-fetu4jSqvLp",
        "outputId": "e485a7d2-d2b9-4bd6-fef3-8278d1f40cd9"
      },
      "outputs": [
        {
          "name": "stdout",
          "output_type": "stream",
          "text": [
            "[[2 4 3 ... 0 0 0]\n",
            " [0 0 0 ... 0 0 0]\n",
            " [0 0 0 ... 0 0 0]\n",
            " [0 0 0 ... 0 0 0]\n",
            " [0 0 0 ... 1 0 0]]\n"
          ]
        }
      ],
      "source": [
        "def main():\n",
        "    arrays = []\n",
        "    for i in folder_d:\n",
        "        array = from_text_return_a_array(i,dic_d)\n",
        "        array = np.array(array) #list to array\n",
        "        arrays.append(array)\n",
        "    for i in range(len(arrays)-1):\n",
        "        arrays[i+1] = np.row_stack((arrays[i],arrays[i+1]))\n",
        "    print(arrays[len(arrays)-1])\n",
        "    \n",
        "main()"
      ]
    }
  ],
  "metadata": {
    "kernelspec": {
      "display_name": "Python 3",
      "language": "python",
      "name": "python3"
    },
    "language_info": {
      "codemirror_mode": {
        "name": "ipython",
        "version": 3
      },
      "file_extension": ".py",
      "mimetype": "text/x-python",
      "name": "python",
      "nbconvert_exporter": "python",
      "pygments_lexer": "ipython3",
      "version": "3.8.3"
    },
    "colab": {
      "provenance": [],
      "include_colab_link": true
    }
  },
  "nbformat": 4,
  "nbformat_minor": 0
}